{
 "cells": [
  {
   "cell_type": "code",
   "execution_count": 1,
   "metadata": {
    "id": "8dDwiOLo5YBZ"
   },
   "outputs": [],
   "source": [
    "import requests \n",
    "from requests.auth import HTTPBasicAuth\n",
    "import json \n",
    "import numpy as np\n",
    "import pandas as pd"
   ]
  },
  {
   "cell_type": "code",
   "execution_count": 2,
   "metadata": {},
   "outputs": [],
   "source": [
    "\n",
    "from statsmodels.graphics.tsaplots import plot_acf, plot_pacf\n",
    "from statsmodels.tsa.statespace.varmax import VARMAX\n",
    "from statsmodels.tsa.api import VAR\n",
    "from statsmodels.tsa.stattools import grangercausalitytests, adfuller\n",
    "from tqdm import tqdm_notebook\n",
    "from itertools import product\n",
    "\n",
    "import matplotlib.pyplot as plt\n",
    "import statsmodels.api as sm\n",
    "import pandas as pd\n",
    "import numpy as np\n",
    "\n",
    "import warnings\n",
    "warnings.filterwarnings('ignore')"
   ]
  },
  {
   "cell_type": "code",
   "execution_count": 3,
   "metadata": {
    "colab": {
     "base_uri": "https://localhost:8080/"
    },
    "id": "UzkKEdDZ5pD9",
    "outputId": "5f65b6d1-44ad-474e-dfc9-e04fe84a4ee3"
   },
   "outputs": [
    {
     "name": "stdout",
     "output_type": "stream",
     "text": [
      "{\"id\":\"7Rv3y2Jz0h1QTCE1\",\"x\":\"{\\\"wconfid\\\":{\\\"0\\\":1,\\\"1\\\":1,\\\"2\\\":1,\\\"3\\\":1,\\\"4\\\":1,\\\"5\\\":1,\\\"6\\\":1,\\\"7\\\":1,\\\"8\\\":1,\\\"9\\\":1,\\\"10\\\":1,\\\"11\\\":1,\\\"12\\\":1,\\\"13\\\":1,\\\"14\\\":1,\\\"15\\\":1,\\\"16\\\":1,\\\"17\\\":1,\\\"18\\\":1,\\\"19\\\":1,\\\"20\\\":1,\\\"21\\\":1,\\\"22\\\":1,\\\"23\\\":1,\\\"24\\\":1,\\\"25\\\":1,\\\"26\\\":1,\\\"27\\\":1,\\\"28\\\":1,\\\"29\\\":1,\\\"30\\\":1,\\\"31\\\":1},\\\"pctid\\\":{\\\"0\\\":85,\\\"1\\\":85,\\\"2\\\":85,\\\"3\\\":85,\\\"4\\\":85,\\\"5\\\":85,\\\"6\\\":85,\\\"7\\\":85,\\\"8\\\":85,\\\"9\\\":85,\\\"10\\\":85,\\\"11\\\":85,\\\"12\\\":85,\\\"13\\\":85,\\\"14\\\":85,\\\"15\\\":85,\\\"16\\\":85,\\\"17\\\":85,\\\"18\\\":85,\\\"19\\\":85,\\\"20\\\":85,\\\"21\\\":85,\\\"22\\\":85,\\\"23\\\":85,\\\"24\\\":85,\\\"25\\\":85,\\\"26\\\":85,\\\"27\\\":85,\\\"28\\\":85,\\\"29\\\":85,\\\"30\\\":85,\\\"31\\\":85},\\\"x\\\":{\\\"0\\\":-0.621,\\\"1\\\":4.059,\\\"2\\\":0.988,\\\"3\\\":2.324,\\\"4\\\":0.594,\\\"5\\\":2.203,\\\"6\\\":0.34,\\\"7\\\":-1.254,\\\"8\\\":0.949,\\\"9\\\":-0.699,\\\"10\\\":-1.516,\\\"11\\\":-0.586,\\\"12\\\":3.75,\\\"13\\\":1.195,\\\"14\\\":0.773,\\\"15\\\":0.492,\\\"16\\\":0.516,\\\"17\\\":-0.801,\\\"18\\\":1.305,\\\"19\\\":0.602,\\\"20\\\":-0.5,\\\"21\\\":2.133,\\\"22\\\":-0.484,\\\"23\\\":1.875,\\\"24\\\":1.113,\\\"25\\\":4.359,\\\"26\\\":1.465,\\\"27\\\":1.977,\\\"28\\\":2.266,\\\"29\\\":-0.418,\\\"30\\\":1.281,\\\"31\\\":-0.965},\\\"y\\\":{\\\"0\\\":-0.305,\\\"1\\\":2.387,\\\"2\\\":2.469,\\\"3\\\":0.547,\\\"4\\\":-0.648,\\\"5\\\":-0.535,\\\"6\\\":0.746,\\\"7\\\":1.113,\\\"8\\\":-0.133,\\\"9\\\":-0.668,\\\"10\\\":-2.586,\\\"11\\\":0.027,\\\"12\\\":1.168,\\\"13\\\":2.66,\\\"14\\\":-0.277,\\\"15\\\":-0.691,\\\"16\\\":-0.566,\\\"17\\\":0.402,\\\"18\\\":0.516,\\\"19\\\":0.379,\\\"20\\\":0.977,\\\"21\\\":-3.469,\\\"22\\\":0.152,\\\"23\\\":0.57,\\\"24\\\":3.816,\\\"25\\\":1.828,\\\"26\\\":-0.426,\\\"27\\\":1.102,\\\"28\\\":-1.102,\\\"29\\\":-1.598,\\\"30\\\":-0.227,\\\"31\\\":0.672},\\\"z\\\":{\\\"0\\\":-0.082,\\\"1\\\":-1.699,\\\"2\\\":0.312,\\\"3\\\":-0.477,\\\"4\\\":-0.523,\\\"5\\\":-1.047,\\\"6\\\":0.27,\\\"7\\\":-1.363,\\\"8\\\":-0.789,\\\"9\\\":-0.957,\\\"10\\\":0.395,\\\"11\\\":-0.789,\\\"12\\\":-0.539,\\\"13\\\":-0.238,\\\"14\\\":2.969,\\\"15\\\":-0.543,\\\"16\\\":-1.379,\\\"17\\\":-0.734,\\\"18\\\":-1.004,\\\"19\\\":-0.957,\\\"20\\\":-0.184,\\\"21\\\":-1.445,\\\"22\\\":-0.586,\\\"23\\\":-1.27,\\\"24\\\":1.242,\\\"25\\\":-0.914,\\\"26\\\":0.082,\\\"27\\\":0.438,\\\"28\\\":0.34,\\\"29\\\":0.762,\\\"30\\\":-0.785,\\\"31\\\":0.328}}\",\"info\":\"22 samples (478 remaining).\"}\n"
     ]
    }
   ],
   "source": [
    "api_key = \"94d15fb2-75c4-4439-97bb-9927089c6698\"\n",
    "server_url = 'https://esgf-server-staging.herokuapp.com'\n",
    "service_name = 'get_inference_data'\n",
    "params = f\"?api_key={api_key}\"\n",
    "headers = {\n",
    "       'Accept': 'application/json',\n",
    "       'Authorization' : f\"Bearer {api_key}\"\n",
    "}\n",
    "response = requests.get(f\"{server_url}/{service_name}{params}\", headers=headers)\n",
    "print(response.text)\n",
    "assert response.status_code == 200"
   ]
  },
  {
   "cell_type": "markdown",
   "metadata": {
    "id": "AYxCA6BHLZ36"
   },
   "source": [
    "Sample"
   ]
  },
  {
   "cell_type": "code",
   "execution_count": 4,
   "metadata": {
    "colab": {
     "base_uri": "https://localhost:8080/"
    },
    "id": "6LtjQhcE57YI",
    "outputId": "6349f53e-43b3-4b2b-ca0c-ed6132ff7885"
   },
   "outputs": [
    {
     "name": "stdout",
     "output_type": "stream",
     "text": [
      "Sample ID='7Rv3y2Jz0h1QTCE1' has shape (32, 5)\n"
     ]
    }
   ],
   "source": [
    "# Server answer as json. Dictionary with keys 'id' and 'x'\n",
    "json_answer = response.json()\n",
    "\n",
    "# Example id\n",
    "example_id = json_answer['id']\n",
    "\n",
    "# Parse str answer as json object\n",
    "json_answer = json.loads(json_answer['x'])\n",
    "\n",
    "# Frame answer\n",
    "pd_sample = pd.DataFrame(json_answer)\n",
    "\n",
    "# Logs. You should have (32,5).\n",
    "print(\"Sample ID='{}' has shape {}\".format(example_id, pd_sample.shape))"
   ]
  },
  {
   "cell_type": "code",
   "execution_count": 5,
   "metadata": {
    "colab": {
     "base_uri": "https://localhost:8080/",
     "height": 1000
    },
    "id": "a4tNGrTiIiQh",
    "outputId": "da19195d-604b-4f9d-9100-fadbdba7759a"
   },
   "outputs": [
    {
     "data": {
      "text/html": [
       "<div>\n",
       "<style scoped>\n",
       "    .dataframe tbody tr th:only-of-type {\n",
       "        vertical-align: middle;\n",
       "    }\n",
       "\n",
       "    .dataframe tbody tr th {\n",
       "        vertical-align: top;\n",
       "    }\n",
       "\n",
       "    .dataframe thead th {\n",
       "        text-align: right;\n",
       "    }\n",
       "</style>\n",
       "<table border=\"1\" class=\"dataframe\">\n",
       "  <thead>\n",
       "    <tr style=\"text-align: right;\">\n",
       "      <th></th>\n",
       "      <th>wconfid</th>\n",
       "      <th>pctid</th>\n",
       "      <th>x</th>\n",
       "      <th>y</th>\n",
       "      <th>z</th>\n",
       "    </tr>\n",
       "  </thead>\n",
       "  <tbody>\n",
       "    <tr>\n",
       "      <th>0</th>\n",
       "      <td>1</td>\n",
       "      <td>85</td>\n",
       "      <td>-0.621</td>\n",
       "      <td>-0.305</td>\n",
       "      <td>-0.082</td>\n",
       "    </tr>\n",
       "    <tr>\n",
       "      <th>1</th>\n",
       "      <td>1</td>\n",
       "      <td>85</td>\n",
       "      <td>4.059</td>\n",
       "      <td>2.387</td>\n",
       "      <td>-1.699</td>\n",
       "    </tr>\n",
       "    <tr>\n",
       "      <th>2</th>\n",
       "      <td>1</td>\n",
       "      <td>85</td>\n",
       "      <td>0.988</td>\n",
       "      <td>2.469</td>\n",
       "      <td>0.312</td>\n",
       "    </tr>\n",
       "    <tr>\n",
       "      <th>3</th>\n",
       "      <td>1</td>\n",
       "      <td>85</td>\n",
       "      <td>2.324</td>\n",
       "      <td>0.547</td>\n",
       "      <td>-0.477</td>\n",
       "    </tr>\n",
       "    <tr>\n",
       "      <th>4</th>\n",
       "      <td>1</td>\n",
       "      <td>85</td>\n",
       "      <td>0.594</td>\n",
       "      <td>-0.648</td>\n",
       "      <td>-0.523</td>\n",
       "    </tr>\n",
       "    <tr>\n",
       "      <th>5</th>\n",
       "      <td>1</td>\n",
       "      <td>85</td>\n",
       "      <td>2.203</td>\n",
       "      <td>-0.535</td>\n",
       "      <td>-1.047</td>\n",
       "    </tr>\n",
       "    <tr>\n",
       "      <th>6</th>\n",
       "      <td>1</td>\n",
       "      <td>85</td>\n",
       "      <td>0.340</td>\n",
       "      <td>0.746</td>\n",
       "      <td>0.270</td>\n",
       "    </tr>\n",
       "    <tr>\n",
       "      <th>7</th>\n",
       "      <td>1</td>\n",
       "      <td>85</td>\n",
       "      <td>-1.254</td>\n",
       "      <td>1.113</td>\n",
       "      <td>-1.363</td>\n",
       "    </tr>\n",
       "    <tr>\n",
       "      <th>8</th>\n",
       "      <td>1</td>\n",
       "      <td>85</td>\n",
       "      <td>0.949</td>\n",
       "      <td>-0.133</td>\n",
       "      <td>-0.789</td>\n",
       "    </tr>\n",
       "    <tr>\n",
       "      <th>9</th>\n",
       "      <td>1</td>\n",
       "      <td>85</td>\n",
       "      <td>-0.699</td>\n",
       "      <td>-0.668</td>\n",
       "      <td>-0.957</td>\n",
       "    </tr>\n",
       "    <tr>\n",
       "      <th>10</th>\n",
       "      <td>1</td>\n",
       "      <td>85</td>\n",
       "      <td>-1.516</td>\n",
       "      <td>-2.586</td>\n",
       "      <td>0.395</td>\n",
       "    </tr>\n",
       "    <tr>\n",
       "      <th>11</th>\n",
       "      <td>1</td>\n",
       "      <td>85</td>\n",
       "      <td>-0.586</td>\n",
       "      <td>0.027</td>\n",
       "      <td>-0.789</td>\n",
       "    </tr>\n",
       "    <tr>\n",
       "      <th>12</th>\n",
       "      <td>1</td>\n",
       "      <td>85</td>\n",
       "      <td>3.750</td>\n",
       "      <td>1.168</td>\n",
       "      <td>-0.539</td>\n",
       "    </tr>\n",
       "    <tr>\n",
       "      <th>13</th>\n",
       "      <td>1</td>\n",
       "      <td>85</td>\n",
       "      <td>1.195</td>\n",
       "      <td>2.660</td>\n",
       "      <td>-0.238</td>\n",
       "    </tr>\n",
       "    <tr>\n",
       "      <th>14</th>\n",
       "      <td>1</td>\n",
       "      <td>85</td>\n",
       "      <td>0.773</td>\n",
       "      <td>-0.277</td>\n",
       "      <td>2.969</td>\n",
       "    </tr>\n",
       "    <tr>\n",
       "      <th>15</th>\n",
       "      <td>1</td>\n",
       "      <td>85</td>\n",
       "      <td>0.492</td>\n",
       "      <td>-0.691</td>\n",
       "      <td>-0.543</td>\n",
       "    </tr>\n",
       "    <tr>\n",
       "      <th>16</th>\n",
       "      <td>1</td>\n",
       "      <td>85</td>\n",
       "      <td>0.516</td>\n",
       "      <td>-0.566</td>\n",
       "      <td>-1.379</td>\n",
       "    </tr>\n",
       "    <tr>\n",
       "      <th>17</th>\n",
       "      <td>1</td>\n",
       "      <td>85</td>\n",
       "      <td>-0.801</td>\n",
       "      <td>0.402</td>\n",
       "      <td>-0.734</td>\n",
       "    </tr>\n",
       "    <tr>\n",
       "      <th>18</th>\n",
       "      <td>1</td>\n",
       "      <td>85</td>\n",
       "      <td>1.305</td>\n",
       "      <td>0.516</td>\n",
       "      <td>-1.004</td>\n",
       "    </tr>\n",
       "    <tr>\n",
       "      <th>19</th>\n",
       "      <td>1</td>\n",
       "      <td>85</td>\n",
       "      <td>0.602</td>\n",
       "      <td>0.379</td>\n",
       "      <td>-0.957</td>\n",
       "    </tr>\n",
       "    <tr>\n",
       "      <th>20</th>\n",
       "      <td>1</td>\n",
       "      <td>85</td>\n",
       "      <td>-0.500</td>\n",
       "      <td>0.977</td>\n",
       "      <td>-0.184</td>\n",
       "    </tr>\n",
       "    <tr>\n",
       "      <th>21</th>\n",
       "      <td>1</td>\n",
       "      <td>85</td>\n",
       "      <td>2.133</td>\n",
       "      <td>-3.469</td>\n",
       "      <td>-1.445</td>\n",
       "    </tr>\n",
       "    <tr>\n",
       "      <th>22</th>\n",
       "      <td>1</td>\n",
       "      <td>85</td>\n",
       "      <td>-0.484</td>\n",
       "      <td>0.152</td>\n",
       "      <td>-0.586</td>\n",
       "    </tr>\n",
       "    <tr>\n",
       "      <th>23</th>\n",
       "      <td>1</td>\n",
       "      <td>85</td>\n",
       "      <td>1.875</td>\n",
       "      <td>0.570</td>\n",
       "      <td>-1.270</td>\n",
       "    </tr>\n",
       "    <tr>\n",
       "      <th>24</th>\n",
       "      <td>1</td>\n",
       "      <td>85</td>\n",
       "      <td>1.113</td>\n",
       "      <td>3.816</td>\n",
       "      <td>1.242</td>\n",
       "    </tr>\n",
       "    <tr>\n",
       "      <th>25</th>\n",
       "      <td>1</td>\n",
       "      <td>85</td>\n",
       "      <td>4.359</td>\n",
       "      <td>1.828</td>\n",
       "      <td>-0.914</td>\n",
       "    </tr>\n",
       "    <tr>\n",
       "      <th>26</th>\n",
       "      <td>1</td>\n",
       "      <td>85</td>\n",
       "      <td>1.465</td>\n",
       "      <td>-0.426</td>\n",
       "      <td>0.082</td>\n",
       "    </tr>\n",
       "    <tr>\n",
       "      <th>27</th>\n",
       "      <td>1</td>\n",
       "      <td>85</td>\n",
       "      <td>1.977</td>\n",
       "      <td>1.102</td>\n",
       "      <td>0.438</td>\n",
       "    </tr>\n",
       "    <tr>\n",
       "      <th>28</th>\n",
       "      <td>1</td>\n",
       "      <td>85</td>\n",
       "      <td>2.266</td>\n",
       "      <td>-1.102</td>\n",
       "      <td>0.340</td>\n",
       "    </tr>\n",
       "    <tr>\n",
       "      <th>29</th>\n",
       "      <td>1</td>\n",
       "      <td>85</td>\n",
       "      <td>-0.418</td>\n",
       "      <td>-1.598</td>\n",
       "      <td>0.762</td>\n",
       "    </tr>\n",
       "    <tr>\n",
       "      <th>30</th>\n",
       "      <td>1</td>\n",
       "      <td>85</td>\n",
       "      <td>1.281</td>\n",
       "      <td>-0.227</td>\n",
       "      <td>-0.785</td>\n",
       "    </tr>\n",
       "    <tr>\n",
       "      <th>31</th>\n",
       "      <td>1</td>\n",
       "      <td>85</td>\n",
       "      <td>-0.965</td>\n",
       "      <td>0.672</td>\n",
       "      <td>0.328</td>\n",
       "    </tr>\n",
       "  </tbody>\n",
       "</table>\n",
       "</div>"
      ],
      "text/plain": [
       "    wconfid  pctid      x      y      z\n",
       "0         1     85 -0.621 -0.305 -0.082\n",
       "1         1     85  4.059  2.387 -1.699\n",
       "2         1     85  0.988  2.469  0.312\n",
       "3         1     85  2.324  0.547 -0.477\n",
       "4         1     85  0.594 -0.648 -0.523\n",
       "5         1     85  2.203 -0.535 -1.047\n",
       "6         1     85  0.340  0.746  0.270\n",
       "7         1     85 -1.254  1.113 -1.363\n",
       "8         1     85  0.949 -0.133 -0.789\n",
       "9         1     85 -0.699 -0.668 -0.957\n",
       "10        1     85 -1.516 -2.586  0.395\n",
       "11        1     85 -0.586  0.027 -0.789\n",
       "12        1     85  3.750  1.168 -0.539\n",
       "13        1     85  1.195  2.660 -0.238\n",
       "14        1     85  0.773 -0.277  2.969\n",
       "15        1     85  0.492 -0.691 -0.543\n",
       "16        1     85  0.516 -0.566 -1.379\n",
       "17        1     85 -0.801  0.402 -0.734\n",
       "18        1     85  1.305  0.516 -1.004\n",
       "19        1     85  0.602  0.379 -0.957\n",
       "20        1     85 -0.500  0.977 -0.184\n",
       "21        1     85  2.133 -3.469 -1.445\n",
       "22        1     85 -0.484  0.152 -0.586\n",
       "23        1     85  1.875  0.570 -1.270\n",
       "24        1     85  1.113  3.816  1.242\n",
       "25        1     85  4.359  1.828 -0.914\n",
       "26        1     85  1.465 -0.426  0.082\n",
       "27        1     85  1.977  1.102  0.438\n",
       "28        1     85  2.266 -1.102  0.340\n",
       "29        1     85 -0.418 -1.598  0.762\n",
       "30        1     85  1.281 -0.227 -0.785\n",
       "31        1     85 -0.965  0.672  0.328"
      ]
     },
     "execution_count": 5,
     "metadata": {},
     "output_type": "execute_result"
    }
   ],
   "source": [
    "pd_sample"
   ]
  },
  {
   "cell_type": "code",
   "execution_count": 6,
   "metadata": {},
   "outputs": [
    {
     "name": "stdout",
     "output_type": "stream",
     "text": [
      "(32, 5)\n"
     ]
    },
    {
     "data": {
      "text/html": [
       "<div>\n",
       "<style scoped>\n",
       "    .dataframe tbody tr th:only-of-type {\n",
       "        vertical-align: middle;\n",
       "    }\n",
       "\n",
       "    .dataframe tbody tr th {\n",
       "        vertical-align: top;\n",
       "    }\n",
       "\n",
       "    .dataframe thead th {\n",
       "        text-align: right;\n",
       "    }\n",
       "</style>\n",
       "<table border=\"1\" class=\"dataframe\">\n",
       "  <thead>\n",
       "    <tr style=\"text-align: right;\">\n",
       "      <th></th>\n",
       "      <th>wconfid</th>\n",
       "      <th>pctid</th>\n",
       "      <th>x</th>\n",
       "      <th>y</th>\n",
       "      <th>z</th>\n",
       "    </tr>\n",
       "  </thead>\n",
       "  <tbody>\n",
       "    <tr>\n",
       "      <th>27</th>\n",
       "      <td>1</td>\n",
       "      <td>85</td>\n",
       "      <td>1.977</td>\n",
       "      <td>1.102</td>\n",
       "      <td>0.438</td>\n",
       "    </tr>\n",
       "    <tr>\n",
       "      <th>28</th>\n",
       "      <td>1</td>\n",
       "      <td>85</td>\n",
       "      <td>2.266</td>\n",
       "      <td>-1.102</td>\n",
       "      <td>0.340</td>\n",
       "    </tr>\n",
       "    <tr>\n",
       "      <th>29</th>\n",
       "      <td>1</td>\n",
       "      <td>85</td>\n",
       "      <td>-0.418</td>\n",
       "      <td>-1.598</td>\n",
       "      <td>0.762</td>\n",
       "    </tr>\n",
       "    <tr>\n",
       "      <th>30</th>\n",
       "      <td>1</td>\n",
       "      <td>85</td>\n",
       "      <td>1.281</td>\n",
       "      <td>-0.227</td>\n",
       "      <td>-0.785</td>\n",
       "    </tr>\n",
       "    <tr>\n",
       "      <th>31</th>\n",
       "      <td>1</td>\n",
       "      <td>85</td>\n",
       "      <td>-0.965</td>\n",
       "      <td>0.672</td>\n",
       "      <td>0.328</td>\n",
       "    </tr>\n",
       "  </tbody>\n",
       "</table>\n",
       "</div>"
      ],
      "text/plain": [
       "    wconfid  pctid      x      y      z\n",
       "27        1     85  1.977  1.102  0.438\n",
       "28        1     85  2.266 -1.102  0.340\n",
       "29        1     85 -0.418 -1.598  0.762\n",
       "30        1     85  1.281 -0.227 -0.785\n",
       "31        1     85 -0.965  0.672  0.328"
      ]
     },
     "execution_count": 6,
     "metadata": {},
     "output_type": "execute_result"
    }
   ],
   "source": [
    "print(pd_sample.shape)  # (32, 5)\n",
    "pd_sample.tail()\n",
    "     "
   ]
  },
  {
   "cell_type": "code",
   "execution_count": 7,
   "metadata": {},
   "outputs": [
    {
     "name": "stdout",
     "output_type": "stream",
     "text": [
      "(32, 3)\n"
     ]
    }
   ],
   "source": [
    "macro_data = pd_sample[['x','y','z']]\n",
    "print(macro_data.shape)"
   ]
  },
  {
   "cell_type": "code",
   "execution_count": 8,
   "metadata": {},
   "outputs": [],
   "source": [
    "train_df=macro_data[:-12]\n",
    "test_df=macro_data[-12:]"
   ]
  },
  {
   "cell_type": "code",
   "execution_count": 9,
   "metadata": {},
   "outputs": [
    {
     "name": "stdout",
     "output_type": "stream",
     "text": [
      "(12, 3)\n"
     ]
    }
   ],
   "source": [
    "print(test_df.shape)"
   ]
  },
  {
   "cell_type": "code",
   "execution_count": 10,
   "metadata": {},
   "outputs": [],
   "source": [
    "model = VAR(train_df.diff()[1:])"
   ]
  },
  {
   "cell_type": "code",
   "execution_count": 11,
   "metadata": {},
   "outputs": [
    {
     "name": "stdout",
     "output_type": "stream",
     "text": [
      " VAR Order Selection (* highlights the minimums) \n",
      "=================================================\n",
      "      AIC         BIC         FPE         HQIC   \n",
      "-------------------------------------------------\n",
      "0       2.683      2.828*       14.63       2.690\n",
      "1       2.592       3.172       13.80       2.622\n",
      "2       2.521       3.535       15.04       2.573\n",
      "3      1.618*       3.066      9.647*      1.692*\n",
      "-------------------------------------------------\n"
     ]
    }
   ],
   "source": [
    "sorted_order=model.select_order(maxlags=3)\n",
    "print(sorted_order.summary())\n"
   ]
  },
  {
   "cell_type": "code",
   "execution_count": 12,
   "metadata": {},
   "outputs": [
    {
     "name": "stdout",
     "output_type": "stream",
     "text": [
      "                           Statespace Model Results                           \n",
      "==============================================================================\n",
      "Dep. Variable:        ['x', 'y', 'z']   No. Observations:                   20\n",
      "Model:                         VAR(4)   Log Likelihood                 -33.182\n",
      "                          + intercept   AIC                            156.365\n",
      "Date:                Sat, 04 Feb 2023   BIC                            201.173\n",
      "Time:                        19:13:12   HQIC                           165.112\n",
      "Sample:                             0                                         \n",
      "                                 - 20                                         \n",
      "Covariance Type:                  opg                                         \n",
      "====================================================================================\n",
      "Ljung-Box (L1) (Q):       0.16, 0.05, 1.77   Jarque-Bera (JB):      0.24, 0.67, 0.15\n",
      "Prob(Q):                  0.69, 0.82, 0.18   Prob(JB):              0.89, 0.71, 0.93\n",
      "Heteroskedasticity (H):   0.08, 0.68, 1.33   Skew:               -0.08, -0.23, -0.12\n",
      "Prob(H) (two-sided):      0.00, 0.63, 0.72   Kurtosis:              3.52, 2.23, 2.66\n",
      "                            Results for equation x                            \n",
      "==============================================================================\n",
      "                 coef    std err          z      P>|z|      [0.025      0.975]\n",
      "------------------------------------------------------------------------------\n",
      "intercept      1.0533      0.107      9.869      0.000       0.844       1.262\n",
      "L1.x          -0.2348      0.065     -3.629      0.000      -0.362      -0.108\n",
      "L1.y           0.9311      0.089     10.410      0.000       0.756       1.106\n",
      "L1.z           0.7380      0.081      9.120      0.000       0.579       0.897\n",
      "L2.x          -0.3191      0.057     -5.598      0.000      -0.431      -0.207\n",
      "L2.y          -0.3761      0.080     -4.724      0.000      -0.532      -0.220\n",
      "L2.z           0.1051      0.068      1.551      0.121      -0.028       0.238\n",
      "L3.x          -0.0417      0.068     -0.616      0.538      -0.174       0.091\n",
      "L3.y          -0.0918      0.034     -2.692      0.007      -0.159      -0.025\n",
      "L3.z          -0.2674      0.185     -1.448      0.148      -0.629       0.095\n",
      "L4.x           0.1624      0.074      2.187      0.029       0.017       0.308\n",
      "L4.y           0.3000      0.049      6.114      0.000       0.204       0.396\n",
      "L4.z          -0.1416      0.126     -1.123      0.261      -0.389       0.106\n",
      "                            Results for equation y                            \n",
      "==============================================================================\n",
      "                 coef    std err          z      P>|z|      [0.025      0.975]\n",
      "------------------------------------------------------------------------------\n",
      "intercept     -0.4334      0.150     -2.890      0.004      -0.727      -0.139\n",
      "L1.x           0.5377      0.248      2.170      0.030       0.052       1.023\n",
      "L1.y          -0.8580      0.088     -9.767      0.000      -1.030      -0.686\n",
      "L1.z          -0.0282      0.121     -0.233      0.816      -0.266       0.210\n",
      "L2.x           0.5047      0.080      6.275      0.000       0.347       0.662\n",
      "L2.y          -0.5503      0.157     -3.497      0.000      -0.859      -0.242\n",
      "L2.z           0.1326      0.112      1.181      0.238      -0.088       0.353\n",
      "L3.x           0.5242      0.086      6.078      0.000       0.355       0.693\n",
      "L3.y          -1.1460      0.100    -11.473      0.000      -1.342      -0.950\n",
      "L3.z           0.1008      0.065      1.561      0.119      -0.026       0.227\n",
      "L4.x           0.3629      0.059      6.181      0.000       0.248       0.478\n",
      "L4.y          -0.7201      0.049    -14.680      0.000      -0.816      -0.624\n",
      "L4.z          -0.0880      0.102     -0.865      0.387      -0.288       0.111\n",
      "                            Results for equation z                            \n",
      "==============================================================================\n",
      "                 coef    std err          z      P>|z|      [0.025      0.975]\n",
      "------------------------------------------------------------------------------\n",
      "intercept     -0.1794      0.123     -1.458      0.145      -0.420       0.062\n",
      "L1.x           0.0477      0.138      0.345      0.730      -0.223       0.319\n",
      "L1.y           0.7123      0.093      7.658      0.000       0.530       0.895\n",
      "L1.z           0.0154      0.109      0.142      0.887      -0.197       0.228\n",
      "L2.x          -0.0131      0.058     -0.229      0.819      -0.126       0.100\n",
      "L2.y          -0.5023      0.058     -8.672      0.000      -0.616      -0.389\n",
      "L2.z          -0.2922      0.072     -4.049      0.000      -0.434      -0.151\n",
      "L3.x          -0.2410      0.109     -2.211      0.027      -0.455      -0.027\n",
      "L3.y           0.9891      0.060     16.388      0.000       0.871       1.107\n",
      "L3.z           0.1652      0.075      2.193      0.028       0.018       0.313\n",
      "L4.x          -0.6504      0.207     -3.149      0.002      -1.055      -0.246\n",
      "L4.y           0.1087      0.057      1.894      0.058      -0.004       0.221\n",
      "L4.z          -0.1170      0.078     -1.498      0.134      -0.270       0.036\n",
      "                            Error covariance matrix                             \n",
      "================================================================================\n",
      "                   coef    std err          z      P>|z|      [0.025      0.975]\n",
      "--------------------------------------------------------------------------------\n",
      "sqrt.var.x       1.1198      0.103     10.906      0.000       0.919       1.321\n",
      "sqrt.cov.x.y     0.3245      0.053      6.119      0.000       0.221       0.428\n",
      "sqrt.var.y       0.1663      0.053      3.122      0.002       0.062       0.271\n",
      "sqrt.cov.x.z    -0.1380      0.101     -1.365      0.172      -0.336       0.060\n",
      "sqrt.cov.y.z    -0.3661      0.102     -3.576      0.000      -0.567      -0.165\n",
      "sqrt.var.z       0.2548      0.071      3.598      0.000       0.116       0.394\n",
      "================================================================================\n",
      "\n",
      "Warnings:\n",
      "[1] Covariance matrix calculated using the outer product of gradients (complex-step).\n",
      "[2] Covariance matrix is singular or near-singular, with condition number 8.44e+18. Standard errors may be unstable.\n"
     ]
    }
   ],
   "source": [
    "var_model = VARMAX(train_df, order=(4,0),enforce_stationarity= True)\n",
    "fitted_model = var_model.fit(disp=False)\n",
    "print(fitted_model.summary())"
   ]
  },
  {
   "cell_type": "code",
   "execution_count": 13,
   "metadata": {},
   "outputs": [],
   "source": [
    "n_forecast = 300\n",
    "predict = fitted_model.get_prediction(start=len(train_df),end=len(train_df) + n_forecast-1)\n",
    "\n",
    "predictions=predict.predicted_mean\n"
   ]
  },
  {
   "cell_type": "code",
   "execution_count": 14,
   "metadata": {},
   "outputs": [
    {
     "data": {
      "text/html": [
       "<div>\n",
       "<style scoped>\n",
       "    .dataframe tbody tr th:only-of-type {\n",
       "        vertical-align: middle;\n",
       "    }\n",
       "\n",
       "    .dataframe tbody tr th {\n",
       "        vertical-align: top;\n",
       "    }\n",
       "\n",
       "    .dataframe thead th {\n",
       "        text-align: right;\n",
       "    }\n",
       "</style>\n",
       "<table border=\"1\" class=\"dataframe\">\n",
       "  <thead>\n",
       "    <tr style=\"text-align: right;\">\n",
       "      <th></th>\n",
       "      <th>x_predicted</th>\n",
       "      <th>y_predicted</th>\n",
       "      <th>z_predicted</th>\n",
       "    </tr>\n",
       "  </thead>\n",
       "  <tbody>\n",
       "    <tr>\n",
       "      <th>20</th>\n",
       "      <td>0.144440</td>\n",
       "      <td>-0.404637</td>\n",
       "      <td>0.355133</td>\n",
       "    </tr>\n",
       "    <tr>\n",
       "      <th>21</th>\n",
       "      <td>0.730408</td>\n",
       "      <td>-0.574368</td>\n",
       "      <td>0.306656</td>\n",
       "    </tr>\n",
       "    <tr>\n",
       "      <th>22</th>\n",
       "      <td>1.421568</td>\n",
       "      <td>0.761304</td>\n",
       "      <td>-1.054882</td>\n",
       "    </tr>\n",
       "    <tr>\n",
       "      <th>23</th>\n",
       "      <td>0.948114</td>\n",
       "      <td>1.037974</td>\n",
       "      <td>-0.011140</td>\n",
       "    </tr>\n",
       "    <tr>\n",
       "      <th>24</th>\n",
       "      <td>0.729919</td>\n",
       "      <td>0.729292</td>\n",
       "      <td>-0.360890</td>\n",
       "    </tr>\n",
       "    <tr>\n",
       "      <th>...</th>\n",
       "      <td>...</td>\n",
       "      <td>...</td>\n",
       "      <td>...</td>\n",
       "    </tr>\n",
       "    <tr>\n",
       "      <th>315</th>\n",
       "      <td>0.721245</td>\n",
       "      <td>0.215599</td>\n",
       "      <td>-0.422792</td>\n",
       "    </tr>\n",
       "    <tr>\n",
       "      <th>316</th>\n",
       "      <td>0.719783</td>\n",
       "      <td>0.212454</td>\n",
       "      <td>-0.421718</td>\n",
       "    </tr>\n",
       "    <tr>\n",
       "      <th>317</th>\n",
       "      <td>0.718303</td>\n",
       "      <td>0.208802</td>\n",
       "      <td>-0.421500</td>\n",
       "    </tr>\n",
       "    <tr>\n",
       "      <th>318</th>\n",
       "      <td>0.718504</td>\n",
       "      <td>0.208854</td>\n",
       "      <td>-0.422357</td>\n",
       "    </tr>\n",
       "    <tr>\n",
       "      <th>319</th>\n",
       "      <td>0.720095</td>\n",
       "      <td>0.212416</td>\n",
       "      <td>-0.423266</td>\n",
       "    </tr>\n",
       "  </tbody>\n",
       "</table>\n",
       "<p>300 rows × 3 columns</p>\n",
       "</div>"
      ],
      "text/plain": [
       "     x_predicted  y_predicted  z_predicted\n",
       "20      0.144440    -0.404637     0.355133\n",
       "21      0.730408    -0.574368     0.306656\n",
       "22      1.421568     0.761304    -1.054882\n",
       "23      0.948114     1.037974    -0.011140\n",
       "24      0.729919     0.729292    -0.360890\n",
       "..           ...          ...          ...\n",
       "315     0.721245     0.215599    -0.422792\n",
       "316     0.719783     0.212454    -0.421718\n",
       "317     0.718303     0.208802    -0.421500\n",
       "318     0.718504     0.208854    -0.422357\n",
       "319     0.720095     0.212416    -0.423266\n",
       "\n",
       "[300 rows x 3 columns]"
      ]
     },
     "execution_count": 14,
     "metadata": {},
     "output_type": "execute_result"
    }
   ],
   "source": [
    "predictions.columns=['x_predicted','y_predicted','z_predicted']\n",
    "predictions"
   ]
  },
  {
   "attachments": {},
   "cell_type": "markdown",
   "metadata": {},
   "source": [
    "***\" t= 32\t     //          x= 0.972211\t  //               y=0.002333\t      //               z =-0.112556\"***"
   ]
  },
  {
   "cell_type": "code",
   "execution_count": 15,
   "metadata": {},
   "outputs": [],
   "source": [
    "test_vs_pred=pd.concat([test_df,predictions],axis=1)"
   ]
  },
  {
   "cell_type": "code",
   "execution_count": 16,
   "metadata": {},
   "outputs": [
    {
     "data": {
      "text/plain": [
       "<AxesSubplot:>"
      ]
     },
     "execution_count": 16,
     "metadata": {},
     "output_type": "execute_result"
    },
    {
     "data": {
      "image/png": "[encoded data removed]",
      "text/plain": [
       "<Figure size 1200x500 with 1 Axes>"
      ]
     },
     "metadata": {},
     "output_type": "display_data"
    }
   ],
   "source": [
    "test_vs_pred.plot(figsize=(12,5))"
   ]
  },
  {
   "attachments": {},
   "cell_type": "markdown",
   "metadata": {},
   "source": [
    "***\" t= 32\t     //          x= 0.972211\t  //               y=0.002333\t      //               z =-0.112556\"***"
   ]
  },
  {
   "cell_type": "code",
   "execution_count": 17,
   "metadata": {},
   "outputs": [],
   "source": [
    "import pickle\n",
    "model_input = (2,65)"
   ]
  },
  {
   "cell_type": "code",
   "execution_count": 18,
   "metadata": {},
   "outputs": [],
   "source": [
    "filename = 'TP4_model.sav'\n",
    "pickle.dump(var_model, open(filename, 'wb'))"
   ]
  },
  {
   "cell_type": "code",
   "execution_count": 19,
   "metadata": {},
   "outputs": [],
   "source": [
    "# loading the saved model\n",
    "loaded_model = pickle.load(open('TP4_model.sav', 'rb'))"
   ]
  },
  {
   "cell_type": "code",
   "execution_count": 20,
   "metadata": {},
   "outputs": [],
   "source": [
    "#var_model.predict([[2,100]])"
   ]
  },
  {
   "cell_type": "code",
   "execution_count": null,
   "metadata": {},
   "outputs": [],
   "source": []
  },
  {
   "cell_type": "code",
   "execution_count": null,
   "metadata": {},
   "outputs": [],
   "source": []
  },
  {
   "cell_type": "code",
   "execution_count": null,
   "metadata": {},
   "outputs": [],
   "source": []
  },
  {
   "cell_type": "code",
   "execution_count": null,
   "metadata": {},
   "outputs": [],
   "source": []
  },
  {
   "cell_type": "code",
   "execution_count": null,
   "metadata": {},
   "outputs": [],
   "source": []
  },
  {
   "cell_type": "code",
   "execution_count": null,
   "metadata": {},
   "outputs": [],
   "source": []
  },
  {
   "cell_type": "code",
   "execution_count": null,
   "metadata": {},
   "outputs": [],
   "source": []
  }
 ],
 "metadata": {
  "colab": {
   "provenance": []
  },
  "kernelspec": {
   "display_name": "Python 3 (ipykernel)",
   "language": "python",
   "name": "python3"
  },
  "language_info": {
   "codemirror_mode": {
    "name": "ipython",
    "version": 3
   },
   "file_extension": ".py",
   "mimetype": "text/x-python",
   "name": "python",
   "nbconvert_exporter": "python",
   "pygments_lexer": "ipython3",
   "version": "3.9.13"
  },
  "vscode": {
   "interpreter": {
    "hash": "91fb979da934b52a8672b3c9d45fe70f75468a1bb10d704ef6e1dbf8149cf7d5"
   }
  }
 },
 "nbformat": 4,
 "nbformat_minor": 1
}
